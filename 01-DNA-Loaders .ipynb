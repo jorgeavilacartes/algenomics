{
 "cells": [
  {
   "cell_type": "markdown",
   "id": "b578dfac-dfd6-46f1-8392-79df7270d313",
   "metadata": {},
   "source": [
    "# `DNA`"
   ]
  },
  {
   "cell_type": "code",
   "execution_count": 1,
   "id": "27fb4c80-f3af-4520-b10d-8f23d4f2fd20",
   "metadata": {},
   "outputs": [],
   "source": [
    "from src import DNA"
   ]
  },
  {
   "cell_type": "code",
   "execution_count": 2,
   "id": "6f2aa797-2abe-48ae-9d50-d917c666e2a3",
   "metadata": {},
   "outputs": [
    {
     "data": {
      "text/plain": [
       "'A': 3; 'C': 2; 'G': 2; 'T': 1\n",
       "'length': 8\n",
       "DNA('AACTGACG')"
      ]
     },
     "execution_count": 2,
     "metadata": {},
     "output_type": "execute_result"
    }
   ],
   "source": [
    "dna = DNA(\"AACTGACG\")\n",
    "dna"
   ]
  },
  {
   "cell_type": "code",
   "execution_count": 3,
   "id": "862971fe-f58f-4f50-8e92-36dff27149af",
   "metadata": {},
   "outputs": [
    {
     "data": {
      "text/plain": [
       "'A'"
      ]
     },
     "execution_count": 3,
     "metadata": {},
     "output_type": "execute_result"
    }
   ],
   "source": [
    "# Get nucleotide by index\n",
    "dna[0]"
   ]
  },
  {
   "cell_type": "code",
   "execution_count": 4,
   "id": "0a0e15dd-b043-4cd0-baa9-f33e2fa93b35",
   "metadata": {},
   "outputs": [],
   "source": [
    "# Replace old value by new one\n",
    "dna[0] = \"T\""
   ]
  },
  {
   "cell_type": "code",
   "execution_count": 5,
   "id": "2f2a634d-619c-4caf-9823-7eef90f06897",
   "metadata": {},
   "outputs": [
    {
     "data": {
      "text/plain": [
       "'T': 2; 'A': 2; 'C': 2; 'G': 2\n",
       "'length': 8\n",
       "DNA('TACTGACG')"
      ]
     },
     "execution_count": 5,
     "metadata": {},
     "output_type": "execute_result"
    }
   ],
   "source": [
    "dna"
   ]
  },
  {
   "cell_type": "code",
   "execution_count": 6,
   "id": "07f80385-dfb1-419e-a91f-cb5cd4fc3ab2",
   "metadata": {},
   "outputs": [
    {
     "data": {
      "text/plain": [
       "'CGTCAGTA'"
      ]
     },
     "execution_count": 6,
     "metadata": {},
     "output_type": "execute_result"
    }
   ],
   "source": [
    "dna.reverse_complement()"
   ]
  },
  {
   "cell_type": "markdown",
   "id": "1a1023db-39ed-4351-bf21-518de639034b",
   "metadata": {},
   "source": [
    "# Loaders"
   ]
  },
  {
   "cell_type": "code",
   "execution_count": 7,
   "id": "37835379-3089-4581-af0e-834543768fe9",
   "metadata": {},
   "outputs": [],
   "source": [
    "from src import (\n",
    "    FastaLoader,\n",
    "    FastqLoader,\n",
    ")"
   ]
  },
  {
   "cell_type": "markdown",
   "id": "98a1278e-f3c3-4d88-a2a2-eb70cee5937b",
   "metadata": {},
   "source": [
    "### **FASTA format**\n",
    "___\n",
    "Load an entire genome (extension.fa)\n",
    "\n",
    "> lambda_virus.fa can be downloaded form here https://d28rh4a8wq0iu5.cloudfront.net/ads1/data/lambda_virus.fa "
   ]
  },
  {
   "cell_type": "code",
   "execution_count": 8,
   "id": "a55eda58-6cb8-4dd1-9298-d1950eb89f1c",
   "metadata": {},
   "outputs": [
    {
     "data": {
      "text/plain": [
       "('GGGCGGCGAC', 48502)"
      ]
     },
     "execution_count": 8,
     "metadata": {},
     "output_type": "execute_result"
    }
   ],
   "source": [
    "fasta = FastaLoader()\n",
    "sequence = fasta(\"data/lambda_virus.fa\")\n",
    "sequence[:10], len(sequence)"
   ]
  },
  {
   "cell_type": "code",
   "execution_count": 9,
   "id": "f2dd73c1-b111-48b7-a9e6-b2e995345925",
   "metadata": {},
   "outputs": [],
   "source": [
    "dna = DNA(sequence)"
   ]
  },
  {
   "cell_type": "code",
   "execution_count": 10,
   "id": "b5d14507-32b4-4541-a9df-f647cac1464a",
   "metadata": {},
   "outputs": [
    {
     "data": {
      "text/plain": [
       "'G': 12820; 'A': 12334; 'T': 11986; 'C': 11362\n",
       "'length': 48502\n",
       "DNA('GGGCGGCGACCTCGCGGGTT...')"
      ]
     },
     "execution_count": 10,
     "metadata": {},
     "output_type": "execute_result"
    }
   ],
   "source": [
    "dna"
   ]
  },
  {
   "cell_type": "markdown",
   "id": "bcc42efb-1878-4c2b-a3dd-f87286708ed1",
   "metadata": {},
   "source": [
    "### **FASTQ format** Sequencing by synthesis\n",
    "___\n",
    "For Sequencing reads and Qualities"
   ]
  },
  {
   "cell_type": "code",
   "execution_count": 11,
   "id": "1e88c863-abd1-4b72-b16a-f0bce090f2b1",
   "metadata": {},
   "outputs": [],
   "source": [
    "fastq = FastqLoader()\n",
    "sequences, qualities = fastq(\"data/SRR835775_1.first1000.fastq\")"
   ]
  },
  {
   "cell_type": "code",
   "execution_count": 12,
   "id": "808fa6cd-5a7e-4686-9896-e3e641c47cff",
   "metadata": {},
   "outputs": [
    {
     "data": {
      "text/plain": [
       "1000"
      ]
     },
     "execution_count": 12,
     "metadata": {},
     "output_type": "execute_result"
    }
   ],
   "source": [
    "len(sequences)"
   ]
  },
  {
   "cell_type": "code",
   "execution_count": 13,
   "id": "36ef14f4-f944-4c79-a54f-00831c022583",
   "metadata": {},
   "outputs": [
    {
     "data": {
      "text/plain": [
       "1000"
      ]
     },
     "execution_count": 13,
     "metadata": {},
     "output_type": "execute_result"
    }
   ],
   "source": [
    "len(qualities)"
   ]
  },
  {
   "cell_type": "code",
   "execution_count": 14,
   "id": "e30dca5e-110f-489a-bf6a-552e0e6fdb86",
   "metadata": {},
   "outputs": [
    {
     "data": {
      "text/plain": [
       "'TAACCCTAACCCTAACCCTAACCCTAACCCTAACCCTAACCCTAACCCTAACCCTCACCCTAACCCTAACCCTAACCGTATCCGTCACCCTAACCCTAAC'"
      ]
     },
     "execution_count": 14,
     "metadata": {},
     "output_type": "execute_result"
    }
   ],
   "source": [
    "sequences[0]"
   ]
  },
  {
   "cell_type": "code",
   "execution_count": 15,
   "id": "1bad3efb-f9bf-4458-9541-a529832237a3",
   "metadata": {},
   "outputs": [
    {
     "data": {
      "text/plain": [
       "'???B1ADDD8??BB+C?B+:AA883CEE8?C3@DDD3)?D2;DC?8?=BAD=@C@(.6.6=A?=?@##################################'"
      ]
     },
     "execution_count": 15,
     "metadata": {},
     "output_type": "execute_result"
    }
   ],
   "source": [
    "qualities[0]"
   ]
  },
  {
   "cell_type": "markdown",
   "id": "27991c58-7efb-4cb2-bee2-3b7462d7cc6c",
   "metadata": {},
   "source": [
    "### Interpretation of `quality`\n",
    "To get qualities or Q value from this equation\n",
    "\n",
    "$$Q = -10 \\cdot \\log_{10}p, \\hspace{0.2 cm}, p:  \\text{probability that base call is incorrect}$$\n",
    "\n",
    "\n",
    "| Q   | Chance call is incorrect  |\n",
    "|-----|-------|\n",
    "| 10  |  1/10 | \n",
    "| 20  |  1/100 |\n",
    "| 30  |  1/1000 |\n",
    "| 40  |  1/10000 |\n"
   ]
  },
  {
   "cell_type": "code",
   "execution_count": 16,
   "id": "95cbc937-8470-4b46-a3e1-583f8a3e6884",
   "metadata": {},
   "outputs": [],
   "source": [
    "# Call method 'phred33_to_Q' to translate encoded-qualities in ASCII to Q-values\n",
    "Q_values = [ fastq.phred33_to_Q(enc_qual) for enc_qual in qualities[0] ]"
   ]
  },
  {
   "cell_type": "code",
   "execution_count": 17,
   "id": "9f1fb4df-8090-4d6d-91cf-7ab037f8796f",
   "metadata": {},
   "outputs": [
    {
     "data": {
      "text/plain": [
       "[30, 30, 30, 33, 16, 32, 35, 35, 35, 23]"
      ]
     },
     "execution_count": 17,
     "metadata": {},
     "output_type": "execute_result"
    }
   ],
   "source": [
    "Q_values[:10]"
   ]
  },
  {
   "cell_type": "code",
   "execution_count": null,
   "id": "16869cde-f213-41b1-8b3b-e7439825b044",
   "metadata": {},
   "outputs": [],
   "source": []
  }
 ],
 "metadata": {
  "kernelspec": {
   "display_name": "Python 3",
   "language": "python",
   "name": "python3"
  },
  "language_info": {
   "codemirror_mode": {
    "name": "ipython",
    "version": 3
   },
   "file_extension": ".py",
   "mimetype": "text/x-python",
   "name": "python",
   "nbconvert_exporter": "python",
   "pygments_lexer": "ipython3",
   "version": "3.9.5"
  }
 },
 "nbformat": 4,
 "nbformat_minor": 5
}
