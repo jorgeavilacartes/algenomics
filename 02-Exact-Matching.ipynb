{
 "cells": [
  {
   "cell_type": "markdown",
   "id": "9ef3a33b-9a86-4347-b243-a2b448967cf8",
   "metadata": {},
   "source": [
    "# Exact Matching"
   ]
  },
  {
   "cell_type": "markdown",
   "id": "84d26936-0f57-4f43-a408-c1dcab6bfa3c",
   "metadata": {},
   "source": [
    "## Naive Approach\n",
    "___"
   ]
  },
  {
   "cell_type": "code",
   "execution_count": 1,
   "id": "b8faec1e-a151-4015-92f1-0286786d31b3",
   "metadata": {},
   "outputs": [],
   "source": [
    "from src.exact_matching import Naive"
   ]
  },
  {
   "cell_type": "code",
   "execution_count": 2,
   "id": "6e2bf2a2-0e21-463f-804b-cb28d400d7b0",
   "metadata": {},
   "outputs": [],
   "source": [
    "seq = \"ACGTACGTAA\"\n",
    "naive = Naive()"
   ]
  },
  {
   "cell_type": "code",
   "execution_count": 3,
   "id": "0410d78d-67ae-4fcc-b5dd-678d96a69969",
   "metadata": {},
   "outputs": [
    {
     "data": {
      "text/plain": [
       "[1, 5]"
      ]
     },
     "execution_count": 3,
     "metadata": {},
     "output_type": "execute_result"
    }
   ],
   "source": [
    "matches = naive(pattern=\"CGT\", sequence=seq)\n",
    "matches"
   ]
  }
 ],
 "metadata": {
  "kernelspec": {
   "display_name": "Python 3",
   "language": "python",
   "name": "python3"
  },
  "language_info": {
   "codemirror_mode": {
    "name": "ipython",
    "version": 3
   },
   "file_extension": ".py",
   "mimetype": "text/x-python",
   "name": "python",
   "nbconvert_exporter": "python",
   "pygments_lexer": "ipython3",
   "version": "3.9.5"
  }
 },
 "nbformat": 4,
 "nbformat_minor": 5
}
