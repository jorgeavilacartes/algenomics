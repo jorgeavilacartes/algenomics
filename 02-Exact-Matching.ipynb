{
 "cells": [
  {
   "cell_type": "code",
   "execution_count": 1,
   "id": "00738637-119b-44a2-a116-dde31f1f8fc4",
   "metadata": {},
   "outputs": [],
   "source": [
    "from src.exact_matching import Naive"
   ]
  },
  {
   "cell_type": "code",
   "execution_count": 2,
   "id": "6da228ff-1d2f-42d1-9de4-cb7dab786ade",
   "metadata": {},
   "outputs": [],
   "source": [
    "# class Naive:\n",
    "#     \"Return a list with indexes where a pattern matches in a sequence\"\n",
    "    \n",
    "#     def __init__(self, sequence: str,): \n",
    "#         self.sequence = sequence\n",
    "    \n",
    "#     def __call__(self, pattern: str,):\n",
    "#         matches = []\n",
    "#         p0 = pattern[0]\n",
    "\n",
    "#         max_pos = len(self.sequence) - len(pattern) + 1\n",
    "#         print(\"max_pos\", max_pos)\n",
    "        \n",
    "#         # Find match for the first character in pattern\n",
    "#         for i, s in enumerate(self.sequence): \n",
    "            \n",
    "#             # Bound feasible comparison\n",
    "#             if i >= max_pos: break \n",
    "                \n",
    "#             # Initialize match as False\n",
    "#             match = False\n",
    "            \n",
    "#             # Find match with first char of the pattern\n",
    "#             if s == p0: \n",
    "                \n",
    "#                 # Verify if the pattern is contained in the sequence\n",
    "#                 for j,p in enumerate(pattern[1:]): \n",
    "                    \n",
    "#                     print(p,self.sequence[i+1+j])\n",
    "                    \n",
    "#                     # Break the loop if no-coincidence is found\n",
    "#                     if p != self.sequence[i+1+j]: \n",
    "#                         break\n",
    "                        \n",
    "#                 # Otherwise, a match was found\n",
    "#                 match = True\n",
    "                \n",
    "#                 # Save match\n",
    "#                 if match: \n",
    "#                     matches.append(i)\n",
    "\n",
    "#         return matches"
   ]
  },
  {
   "cell_type": "code",
   "execution_count": 3,
   "id": "6e2bf2a2-0e21-463f-804b-cb28d400d7b0",
   "metadata": {},
   "outputs": [],
   "source": [
    "seq = \"ACGTACGTAA\"\n",
    "naive = Naive(seq)"
   ]
  },
  {
   "cell_type": "code",
   "execution_count": 4,
   "id": "0410d78d-67ae-4fcc-b5dd-678d96a69969",
   "metadata": {},
   "outputs": [
    {
     "name": "stdout",
     "output_type": "stream",
     "text": [
      "max_pos 8\n"
     ]
    },
    {
     "data": {
      "text/plain": [
       "([1, 5], True)"
      ]
     },
     "execution_count": 4,
     "metadata": {},
     "output_type": "execute_result"
    }
   ],
   "source": [
    "naive(pattern=\"CGT\")"
   ]
  },
  {
   "cell_type": "code",
   "execution_count": 5,
   "id": "2350ce32-2ba7-4f78-a5d1-2b0c0f5eb970",
   "metadata": {},
   "outputs": [
    {
     "data": {
      "text/plain": [
       "'CGT'"
      ]
     },
     "execution_count": 5,
     "metadata": {},
     "output_type": "execute_result"
    }
   ],
   "source": [
    "seq[1:1+3]"
   ]
  },
  {
   "cell_type": "code",
   "execution_count": 6,
   "id": "ce0cbeea-00e6-4f99-a563-5fb05502b6d8",
   "metadata": {},
   "outputs": [
    {
     "data": {
      "text/plain": [
       "'CGT'"
      ]
     },
     "execution_count": 6,
     "metadata": {},
     "output_type": "execute_result"
    }
   ],
   "source": [
    "seq[5:5+3]"
   ]
  }
 ],
 "metadata": {
  "kernelspec": {
   "display_name": "Python 3",
   "language": "python",
   "name": "python3"
  },
  "language_info": {
   "codemirror_mode": {
    "name": "ipython",
    "version": 3
   },
   "file_extension": ".py",
   "mimetype": "text/x-python",
   "name": "python",
   "nbconvert_exporter": "python",
   "pygments_lexer": "ipython3",
   "version": "3.9.5"
  }
 },
 "nbformat": 4,
 "nbformat_minor": 5
}
