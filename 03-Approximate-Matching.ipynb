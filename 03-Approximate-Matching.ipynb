{
 "cells": [
  {
   "cell_type": "markdown",
   "id": "a535abe4-f4b6-4767-b687-db8720e99588",
   "metadata": {},
   "source": [
    "## Hamming Distance\n",
    "___"
   ]
  },
  {
   "cell_type": "code",
   "execution_count": 1,
   "id": "c6ed8d85-fe51-4400-8dd0-336db70f775a",
   "metadata": {},
   "outputs": [],
   "source": [
    "from src.approximate_matching import HammingDistance"
   ]
  },
  {
   "cell_type": "code",
   "execution_count": 2,
   "id": "fe243f98-fc48-4c6b-bd7d-f36e496eac8f",
   "metadata": {},
   "outputs": [],
   "source": [
    "t1, t2 = \"AACT\", \"AAAT\""
   ]
  },
  {
   "cell_type": "code",
   "execution_count": 3,
   "id": "2e9cbb7c-da9e-4a8c-8d7f-d46f14ad09bf",
   "metadata": {},
   "outputs": [
    {
     "data": {
      "text/plain": [
       "(1, [2])"
      ]
     },
     "execution_count": 3,
     "metadata": {},
     "output_type": "execute_result"
    }
   ],
   "source": [
    "hd = HammingDistance()\n",
    "distance, pos_mismatches = hd(t1,t2)\n",
    "distance, pos_mismatches"
   ]
  },
  {
   "cell_type": "markdown",
   "id": "15c969ea-aed9-4116-a428-2e6479820bdc",
   "metadata": {},
   "source": [
    "## Edit Distance\n",
    "___"
   ]
  },
  {
   "cell_type": "code",
   "execution_count": 4,
   "id": "b896dbd1-bd04-4b74-a8c8-4936acf6e1a8",
   "metadata": {},
   "outputs": [],
   "source": [
    "from src.approximate_matching import (\n",
    "    Naive,\n",
    "    DynamicProgramming,\n",
    ")\n",
    "\n",
    "t1 = \"AACTAAAA\"\n",
    "t2 = \"AAATTCAA\""
   ]
  },
  {
   "cell_type": "code",
   "execution_count": 5,
   "id": "b734499e-db2a-42b9-b7b8-c45e7f824dd0",
   "metadata": {},
   "outputs": [
    {
     "name": "stdout",
     "output_type": "stream",
     "text": [
      "CPU times: user 997 ms, sys: 0 ns, total: 997 ms\n",
      "Wall time: 999 ms\n"
     ]
    },
    {
     "data": {
      "text/plain": [
       "3"
      ]
     },
     "execution_count": 5,
     "metadata": {},
     "output_type": "execute_result"
    }
   ],
   "source": [
    "%%time\n",
    "# Naive algorithm (low)\n",
    "naive = Naive()\n",
    "naive(t1,t2)"
   ]
  },
  {
   "cell_type": "code",
   "execution_count": 6,
   "id": "b67f8b84-d9f4-4caa-b339-6aa7b0d359b6",
   "metadata": {},
   "outputs": [
    {
     "name": "stdout",
     "output_type": "stream",
     "text": [
      "CPU times: user 344 µs, sys: 36 µs, total: 380 µs\n",
      "Wall time: 387 µs\n"
     ]
    },
    {
     "data": {
      "text/plain": [
       "3"
      ]
     },
     "execution_count": 6,
     "metadata": {},
     "output_type": "execute_result"
    }
   ],
   "source": [
    "%%time\n",
    "# Dynamic Programming algorithm (fast)\n",
    "dp = DynamicProgramming()\n",
    "dp(t1,t2)"
   ]
  },
  {
   "cell_type": "code",
   "execution_count": null,
   "id": "89ee6aa6-fad2-477f-98c9-1f7808ec1503",
   "metadata": {},
   "outputs": [],
   "source": []
  },
  {
   "cell_type": "code",
   "execution_count": null,
   "id": "7a88c6fe-e38a-40f3-bd7e-60346456147b",
   "metadata": {},
   "outputs": [],
   "source": []
  },
  {
   "cell_type": "code",
   "execution_count": null,
   "id": "867ee1bc-8b01-4e30-b01e-618510c695bf",
   "metadata": {},
   "outputs": [],
   "source": []
  },
  {
   "cell_type": "code",
   "execution_count": null,
   "id": "c5b35961-3812-432d-bd94-547594ba5318",
   "metadata": {},
   "outputs": [],
   "source": []
  },
  {
   "cell_type": "code",
   "execution_count": null,
   "id": "48bc82e5-830e-46c9-ae2f-158c0689a973",
   "metadata": {},
   "outputs": [],
   "source": []
  }
 ],
 "metadata": {
  "kernelspec": {
   "display_name": "Python 3",
   "language": "python",
   "name": "python3"
  },
  "language_info": {
   "codemirror_mode": {
    "name": "ipython",
    "version": 3
   },
   "file_extension": ".py",
   "mimetype": "text/x-python",
   "name": "python",
   "nbconvert_exporter": "python",
   "pygments_lexer": "ipython3",
   "version": "3.9.5"
  }
 },
 "nbformat": 4,
 "nbformat_minor": 5
}
