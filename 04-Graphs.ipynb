{
 "cells": [
  {
   "cell_type": "code",
   "execution_count": null,
   "id": "d7089309-03d8-4924-92a5-8e7748ea0afe",
   "metadata": {},
   "outputs": [],
   "source": [
    "from graphviz import Digraph\n",
    "\n",
    "dot = Digraph(comment='The Round Table')\n",
    "\n",
    "dot.node('A', 'King Arthur')\n",
    "\n",
    "dot.node('B', 'Sir Bedevere the Wise')\n",
    "\n",
    "dot.node('L', 'Sir Lancelot the Brave')\n",
    "\n",
    "dot.edges(['AB', 'AL'])\n",
    "\n",
    "dot.edge('B', 'L', constraint='false')\n",
    "\n",
    "print(dot.source)  \n",
    "\n",
    "dot.render('test-output/round-table.gv', view=True)  "
   ]
  },
  {
   "cell_type": "code",
   "execution_count": 1,
   "id": "8abccb6a-d45a-4e89-aacc-8e3f187c17db",
   "metadata": {},
   "outputs": [
    {
     "data": {
      "text/plain": [
       "'\\nDIGRAPH {\\nA ;\\nB ; \\nC ; \\nA -- B; \\nA -- C; \\n}\\n'"
      ]
     },
     "execution_count": 1,
     "metadata": {},
     "output_type": "execute_result"
    }
   ],
   "source": [
    "\"\"\"\n",
    "DIGRAPH {\n",
    "A ;\n",
    "B ; \n",
    "C ; \n",
    "A -- B; \n",
    "A -- C; \n",
    "}\n",
    "\"\"\""
   ]
  },
  {
   "cell_type": "code",
   "execution_count": null,
   "id": "0fff5c0a-cf08-4941-9365-931f3f93cdd0",
   "metadata": {},
   "outputs": [],
   "source": [
    "# De Bruijn"
   ]
  }
 ],
 "metadata": {
  "kernelspec": {
   "display_name": "Python 3",
   "language": "python",
   "name": "python3"
  },
  "language_info": {
   "codemirror_mode": {
    "name": "ipython",
    "version": 3
   },
   "file_extension": ".py",
   "mimetype": "text/x-python",
   "name": "python",
   "nbconvert_exporter": "python",
   "pygments_lexer": "ipython3",
   "version": "3.9.5"
  }
 },
 "nbformat": 4,
 "nbformat_minor": 5
}
